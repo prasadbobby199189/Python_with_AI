{
 "cells": [
  {
   "cell_type": "markdown",
   "id": "fe92577f",
   "metadata": {},
   "source": []
  },
  {
   "cell_type": "markdown",
   "id": "80e48871",
   "metadata": {},
   "source": [
    "# ARITHEMATIC OPERATIONS"
   ]
  },
  {
   "cell_type": "code",
   "execution_count": 1,
   "id": "119006c6",
   "metadata": {},
   "outputs": [
    {
     "name": "stdout",
     "output_type": "stream",
     "text": [
      "55\n",
      "35\n",
      "450\n",
      "4.5\n",
      "5\n",
      "34050628916015625\n",
      "4\n"
     ]
    }
   ],
   "source": [
    "x = 45\n",
    "y = 10\n",
    "print(x+y)\n",
    "print(x-y)\n",
    "print(x*y)\n",
    "print(x/y)\n",
    "print(x%y)\n",
    "print(x**y)\n",
    "print(x//y)\n"
   ]
  },
  {
   "cell_type": "markdown",
   "id": "97a23f7a",
   "metadata": {},
   "source": [
    "# ASSIGNMENT OPERATOR:"
   ]
  },
  {
   "cell_type": "code",
   "execution_count": 4,
   "id": "12fbd12c",
   "metadata": {},
   "outputs": [
    {
     "name": "stdout",
     "output_type": "stream",
     "text": [
      "30\n",
      "25\n",
      "75\n",
      "37.5\n",
      "52734.375\n",
      "3.375\n",
      "0.0\n"
     ]
    }
   ],
   "source": [
    "x = 20\n",
    "x += 10\n",
    "print(x)\n",
    "x -= 5\n",
    "print(x)\n",
    "x *= 3\n",
    "print(x)\n",
    "x /= 2\n",
    "print(x)\n",
    "x **= 3\n",
    "print(x)\n",
    "x %= 7\n",
    "print(x)\n",
    "x //= 6\n",
    "print(x)"
   ]
  },
  {
   "cell_type": "markdown",
   "id": "1eccafbe",
   "metadata": {},
   "source": [
    "# Comparision Operators\n",
    " "
   ]
  },
  {
   "cell_type": "code",
   "execution_count": 5,
   "id": "f98df4a0",
   "metadata": {},
   "outputs": [
    {
     "name": "stdout",
     "output_type": "stream",
     "text": [
      "False\n",
      "True\n",
      "False\n",
      "True\n",
      "False\n",
      "True\n"
     ]
    }
   ],
   "source": [
    "x = 8\n",
    "y = 5\n",
    "print(x == y)\n",
    "print(x != y)\n",
    "print(x < y)\n",
    "print(x > y)\n",
    "print(x <= y)\n",
    "print(x >= y)"
   ]
  },
  {
   "cell_type": "markdown",
   "id": "a1f5d6d6",
   "metadata": {},
   "source": [
    "# Logical Operator:"
   ]
  },
  {
   "cell_type": "code",
   "execution_count": 7,
   "id": "3582b32c",
   "metadata": {},
   "outputs": [
    {
     "name": "stdout",
     "output_type": "stream",
     "text": [
      "False\n",
      "True\n",
      "True\n"
     ]
    }
   ],
   "source": [
    "x = 5\n",
    "print(x <7 and x >8)\n",
    "print(x <7 or x >8)\n",
    "print(not(x <7 and x >8))\n"
   ]
  },
  {
   "cell_type": "markdown",
   "id": "156cd744",
   "metadata": {},
   "source": [
    "# Identitiy Operators:\n",
    "- used to compare objects \n",
    "- **'is'**\n",
    "- **'is not'**"
   ]
  },
  {
   "cell_type": "code",
   "execution_count": 10,
   "id": "2f5536b6",
   "metadata": {},
   "outputs": [
    {
     "name": "stdout",
     "output_type": "stream",
     "text": [
      "False\n",
      "False\n",
      "False\n"
     ]
    }
   ],
   "source": [
    "x = 4\n",
    "y = 8\n",
    "z = 8\n",
    "print(x is y)\n",
    "print(x is z)\n",
    "print(x is y is z)"
   ]
  },
  {
   "cell_type": "markdown",
   "id": "120c59ef",
   "metadata": {},
   "source": [
    "# Membership Operator:\n",
    "- used to test given sequence is presented \n",
    "- **'in'**\n",
    "- **'not in'**"
   ]
  },
  {
   "cell_type": "code",
   "execution_count": 11,
   "id": "e35b78fe",
   "metadata": {},
   "outputs": [
    {
     "name": "stdout",
     "output_type": "stream",
     "text": [
      "True\n",
      "True\n",
      "True\n",
      "False\n"
     ]
    }
   ],
   "source": [
    "s = \"python\"\n",
    "print(\"y\" in s)\n",
    "print(\"th\" in s)\n",
    "print(\"on\"in s)\n",
    "print(\"p\" not in s)"
   ]
  },
  {
   "cell_type": "markdown",
   "id": "6b5ad3c5",
   "metadata": {},
   "source": [
    "# Control flow statements\n",
    "- if else \n",
    "\n"
   ]
  },
  {
   "cell_type": "code",
   "execution_count": 12,
   "id": "a6675693",
   "metadata": {},
   "outputs": [
    {
     "name": "stdout",
     "output_type": "stream",
     "text": [
      "enter a number5\n",
      "Odd Number\n"
     ]
    }
   ],
   "source": [
    "# check given number is even or odd\n",
    "n = int(input(\"enter a number\"))\n",
    "if n%2==0:\n",
    "    print(\"Even Number\")\n",
    "else :\n",
    "    print(\"Odd Number\")"
   ]
  },
  {
   "cell_type": "code",
   "execution_count": 15,
   "id": "d006fd67",
   "metadata": {},
   "outputs": [
    {
     "name": "stdout",
     "output_type": "stream",
     "text": [
      "enter a number12\n",
      "no\n"
     ]
    }
   ],
   "source": [
    "# check a given number is multiples of both 3 and 5\n",
    "n = int(input(\"enter a number\"))\n",
    "if n%3==0 and n%5==0:\n",
    "    print(\"yes\")\n",
    "else:\n",
    "    print(\"no\")\n"
   ]
  },
  {
   "cell_type": "code",
   "execution_count": 3,
   "id": "5f28e157",
   "metadata": {},
   "outputs": [
    {
     "name": "stdout",
     "output_type": "stream",
     "text": [
      "enter a number:25\n",
      "postive number\n"
     ]
    }
   ],
   "source": [
    "# check given is +ve or -ve or zero\n",
    "n =int(input(\"enter a number:\"))\n",
    "if n>0:\n",
    "    print(\"postive number\")\n",
    "elif n<0:\n",
    "    print(\"negative number\")\n",
    "else:    \n",
    "    print(\"zero\")"
   ]
  },
  {
   "cell_type": "code",
   "execution_count": 5,
   "id": "a0916f4d",
   "metadata": {},
   "outputs": [
    {
     "name": "stdout",
     "output_type": "stream",
     "text": [
      "enter first number5\n",
      "enter second number3\n",
      "enter third number2\n",
      "x\n"
     ]
    }
   ],
   "source": [
    "# find large number from 3 inputs\n",
    "x=int(input(\"enter first number\"))\n",
    "y=int(input(\"enter second number\"))\n",
    "z=int(input(\"enter third number\"))\n",
    "if x>y:\n",
    "    print(\"x\")\n",
    "elif y>z:\n",
    "    print(\"y\")\n",
    "else:\n",
    "    print(\"z\")"
   ]
  },
  {
   "cell_type": "code",
   "execution_count": 12,
   "id": "6449f933",
   "metadata": {},
   "outputs": [
    {
     "name": "stdout",
     "output_type": "stream",
     "text": [
      "enter marks:99\n",
      "O\n"
     ]
    }
   ],
   "source": [
    "# find grading\n",
    "n =int(input(\"enter marks:\"))\n",
    "if n>85:\n",
    "    print(\"O\")\n",
    "elif n>75:\n",
    "    print(\"S\")\n",
    "elif n>65:\n",
    "    print(\"A\")\n",
    "elif n>55:\n",
    "    print(\"B\")\n",
    "elif n>45:\n",
    "    print(\"C\")\n",
    "elif n>35: \n",
    "    print(\"D\")\n",
    "else:\n",
    "    print(\"F\")\n",
    "     "
   ]
  },
  {
   "cell_type": "markdown",
   "id": "f25844d2",
   "metadata": {},
   "source": [
    "# While Loop Statements\n"
   ]
  },
  {
   "cell_type": "code",
   "execution_count": 14,
   "id": "94c71c22",
   "metadata": {},
   "outputs": [
    {
     "name": "stdout",
     "output_type": "stream",
     "text": [
      "Python\n",
      "Python\n",
      "Python\n",
      "Python\n",
      "Python\n"
     ]
    }
   ],
   "source": [
    "# wanto print \"python\" 5 times\n",
    "i=1\n",
    "while i<=5:\n",
    "    print(\"Python\")\n",
    "    i=i+1"
   ]
  },
  {
   "cell_type": "code",
   "execution_count": 15,
   "id": "88339950",
   "metadata": {},
   "outputs": [
    {
     "name": "stdout",
     "output_type": "stream",
     "text": [
      "1 2 3 4 5 6 7 8 9 10 "
     ]
    }
   ],
   "source": [
    "# print 1 to 10\n",
    "i=1\n",
    "while i<=10:\n",
    "    print(i,end = \" \")\n",
    "    i = i+1     "
   ]
  },
  {
   "cell_type": "code",
   "execution_count": 1,
   "id": "f5d9cc04",
   "metadata": {},
   "outputs": [
    {
     "name": "stdout",
     "output_type": "stream",
     "text": [
      "2 4 6 8 10 "
     ]
    }
   ],
   "source": [
    "# From 1 to 10 number print only even numbers\n",
    "i = 1\n",
    "while i<=10:\n",
    "    if i%2==0:\n",
    "        print(i,end = \" \")\n",
    "    i=i+1\n"
   ]
  },
  {
   "cell_type": "code",
   "execution_count": 1,
   "id": "09efae9a",
   "metadata": {},
   "outputs": [
    {
     "name": "stdout",
     "output_type": "stream",
     "text": [
      "enter a number6\n",
      "1 2 3 6 "
     ]
    }
   ],
   "source": [
    "# input : 6 o/p: 1 2 3 6\n",
    "n = int(input(\"enter a number\"))\n",
    "i = 1\n",
    "while i<= n:\n",
    "    if n%i==0:\n",
    "        print(i,end= \" \")\n",
    "    i =i+1"
   ]
  },
  {
   "cell_type": "code",
   "execution_count": null,
   "id": "4b8f824d",
   "metadata": {},
   "outputs": [],
   "source": []
  }
 ],
 "metadata": {
  "kernelspec": {
   "display_name": "Python 3",
   "language": "python",
   "name": "python3"
  },
  "language_info": {
   "codemirror_mode": {
    "name": "ipython",
    "version": 3
   },
   "file_extension": ".py",
   "mimetype": "text/x-python",
   "name": "python",
   "nbconvert_exporter": "python",
   "pygments_lexer": "ipython3",
   "version": "3.8.8"
  }
 },
 "nbformat": 4,
 "nbformat_minor": 5
}
