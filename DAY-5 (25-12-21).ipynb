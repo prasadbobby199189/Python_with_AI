{
 "cells": [
  {
   "cell_type": "markdown",
   "id": "765cd445",
   "metadata": {},
   "source": [
    "# markdown\n",
    "## markdown\n",
    "### markdown\n",
    "#### markdown\n",
    "##### markdown\n",
    "\n",
    "- python\n",
    "    - python 1\n",
    "    - python 2\n",
    "       - python 1\n",
    "       - python 2\n",
    "-  *pyhton*\n",
    "-  **python**\n",
    "-  ***python***\n",
    "              \n",
    "\n",
    "\n",
    "      "
   ]
  },
  {
   "cell_type": "markdown",
   "id": "2fd594bd",
   "metadata": {},
   "source": [
    "# VARIABLES"
   ]
  },
  {
   "cell_type": "code",
   "execution_count": 1,
   "id": "1d452682",
   "metadata": {},
   "outputs": [
    {
     "name": "stdout",
     "output_type": "stream",
     "text": [
      "hello world\n"
     ]
    }
   ],
   "source": [
    "print(\"hello world\")"
   ]
  },
  {
   "cell_type": "code",
   "execution_count": 2,
   "id": "e4d494d2",
   "metadata": {},
   "outputs": [
    {
     "name": "stdout",
     "output_type": "stream",
     "text": [
      "venkata sai prasad\n"
     ]
    }
   ],
   "source": [
    "print(\"venkata sai prasad\")"
   ]
  },
  {
   "cell_type": "code",
   "execution_count": 4,
   "id": "a089522a",
   "metadata": {},
   "outputs": [
    {
     "name": "stdout",
     "output_type": "stream",
     "text": [
      "one two three\n"
     ]
    }
   ],
   "source": [
    "print(\"one\",\"two\",\"three\")"
   ]
  },
  {
   "cell_type": "code",
   "execution_count": 5,
   "id": "3768a34b",
   "metadata": {},
   "outputs": [
    {
     "name": "stdout",
     "output_type": "stream",
     "text": [
      "HELLO WORLD\n"
     ]
    }
   ],
   "source": [
    "print(\"HELLO WORLD\")"
   ]
  },
  {
   "cell_type": "code",
   "execution_count": 6,
   "id": "60b4b223",
   "metadata": {},
   "outputs": [
    {
     "name": "stdout",
     "output_type": "stream",
     "text": [
      "10\n"
     ]
    }
   ],
   "source": [
    "a = 10 # single variables assaigned to single value\n",
    "print(a)"
   ]
  },
  {
   "cell_type": "code",
   "execution_count": 7,
   "id": "e44ddb3a",
   "metadata": {},
   "outputs": [
    {
     "name": "stdout",
     "output_type": "stream",
     "text": [
      "10 10 10\n"
     ]
    }
   ],
   "source": [
    "a = b= c= 10 # multiple variables assaigned to single values\n",
    "print(a,b,c)"
   ]
  },
  {
   "cell_type": "code",
   "execution_count": 10,
   "id": "651a3498",
   "metadata": {},
   "outputs": [
    {
     "name": "stdout",
     "output_type": "stream",
     "text": [
      "10 20 30\n"
     ]
    }
   ],
   "source": [
    "a,b,c = 10,20,30 # multiple variables assaigned to multiple values\n",
    "print(a,b,c)"
   ]
  },
  {
   "cell_type": "markdown",
   "id": "aa5db565",
   "metadata": {},
   "source": [
    "# DATA TYPES\n",
    " - int\n",
    " - float\n",
    " - string\n"
   ]
  },
  {
   "cell_type": "code",
   "execution_count": 12,
   "id": "85564436",
   "metadata": {},
   "outputs": [
    {
     "name": "stdout",
     "output_type": "stream",
     "text": [
      "1.2 <class 'float'>\n"
     ]
    }
   ],
   "source": [
    "# float\n",
    "f = 1.2\n",
    "print(f,type(f))\n"
   ]
  },
  {
   "cell_type": "code",
   "execution_count": 13,
   "id": "958f96c1",
   "metadata": {},
   "outputs": [
    {
     "name": "stdout",
     "output_type": "stream",
     "text": [
      "python\n",
      "<class 'str'>\n"
     ]
    }
   ],
   "source": [
    "# string\n",
    "s = \"python\"\n",
    "print(s)\n",
    "print(type(s))\n"
   ]
  },
  {
   "cell_type": "markdown",
   "id": "b05acd5c",
   "metadata": {},
   "source": [
    "# DATA Conversions:\n",
    " - integer--> **int**\n",
    " - float   -->**float**\n",
    " - string   -->**str**\n",
    " "
   ]
  },
  {
   "cell_type": "code",
   "execution_count": 14,
   "id": "d98705c6",
   "metadata": {},
   "outputs": [
    {
     "name": "stdout",
     "output_type": "stream",
     "text": [
      "10 <class 'int'>\n",
      "10.0 <class 'float'>\n",
      "10 <class 'str'>\n"
     ]
    }
   ],
   "source": [
    "n = 10\n",
    "print(n,type(n))\n",
    "f = float(n)\n",
    "print(f,type(f))\n",
    "s = str(n)\n",
    "print(s,type(s))\n"
   ]
  },
  {
   "cell_type": "code",
   "execution_count": 15,
   "id": "03e97c6d",
   "metadata": {},
   "outputs": [
    {
     "name": "stdout",
     "output_type": "stream",
     "text": [
      "10.5 <class 'float'>\n",
      "10 <class 'int'>\n",
      "10.5 <class 'str'>\n"
     ]
    }
   ],
   "source": [
    "f = 10.5\n",
    "print(f,type(f))\n",
    "i = int(f)\n",
    "print(i,type(i))\n",
    "s = str(f)\n",
    "print(s,type(s))"
   ]
  },
  {
   "cell_type": "code",
   "execution_count": 16,
   "id": "c1764ad3",
   "metadata": {},
   "outputs": [
    {
     "name": "stdout",
     "output_type": "stream",
     "text": [
      "12345 <class 'str'>\n",
      "12345 <class 'int'>\n",
      "12345.0 <class 'float'>\n"
     ]
    }
   ],
   "source": [
    "s = \"12345\"\n",
    "print(s,type(s))\n",
    "i = int(s)\n",
    "print(i,type(i))\n",
    "f = float(s)\n",
    "print(f,type(f))"
   ]
  },
  {
   "cell_type": "code",
   "execution_count": null,
   "id": "89a67540",
   "metadata": {},
   "outputs": [],
   "source": []
  },
  {
   "cell_type": "code",
   "execution_count": 11,
   "id": "a07b1dcc",
   "metadata": {},
   "outputs": [
    {
     "name": "stdout",
     "output_type": "stream",
     "text": [
      "5\n",
      "<class 'int'>\n"
     ]
    }
   ],
   "source": [
    "# int\n",
    "a = 5\n",
    "print(a)\n",
    "print(type(a))\n",
    "\n",
    "\n"
   ]
  },
  {
   "cell_type": "markdown",
   "id": "08f0e896",
   "metadata": {},
   "source": [
    "# Display three string “Name”, “Is”, “James” as “Name**Is**James”\n",
    "\n"
   ]
  },
  {
   "cell_type": "code",
   "execution_count": 18,
   "id": "6bada47c",
   "metadata": {},
   "outputs": [
    {
     "name": "stdout",
     "output_type": "stream",
     "text": [
      "NAME **IS** JAMES\n"
     ]
    }
   ],
   "source": [
    "a=\"NAME\"\n",
    "b=\"**IS**\"\n",
    "c=\"JAMES\"\n",
    "print(a,b,c)"
   ]
  },
  {
   "cell_type": "markdown",
   "id": "8788367d",
   "metadata": {},
   "source": [
    "# INPUT FUNCTIONS:\n",
    "- reads input from user"
   ]
  },
  {
   "cell_type": "code",
   "execution_count": 20,
   "id": "9ed4a061",
   "metadata": {},
   "outputs": [
    {
     "name": "stdout",
     "output_type": "stream",
     "text": [
      "enter your namebobby\n",
      "my name is: bobby\n",
      "<class 'str'>\n"
     ]
    }
   ],
   "source": [
    "# input as text\n",
    "a = input(\"enter your name\")\n",
    "print(\"my name is:\",a)\n",
    "print(type(a))"
   ]
  },
  {
   "cell_type": "code",
   "execution_count": 21,
   "id": "e7bfc81d",
   "metadata": {},
   "outputs": [
    {
     "name": "stdout",
     "output_type": "stream",
     "text": [
      "enter a number:10\n",
      "10\n",
      "<class 'int'>\n"
     ]
    }
   ],
   "source": [
    "# input as number\n",
    "q = int(input(\"enter a number:\"))\n",
    "print(q)\n",
    "print(type(q))\n"
   ]
  },
  {
   "cell_type": "markdown",
   "id": "0a4c0449",
   "metadata": {},
   "source": [
    "# Write a Python program which accepts the radius of a circle from the user and compute the area ."
   ]
  },
  {
   "cell_type": "code",
   "execution_count": 22,
   "id": "e452b06d",
   "metadata": {},
   "outputs": [
    {
     "name": "stdout",
     "output_type": "stream",
     "text": [
      "enter radius:55\n",
      "area of circle is: 345.40000000000003\n"
     ]
    }
   ],
   "source": [
    "radius=int(input(\"enter radius:\"))\n",
    "area=3.14*radius*2\n",
    "print(\"area of circle is:\",area)"
   ]
  },
  {
   "cell_type": "markdown",
   "id": "db76ff49",
   "metadata": {},
   "source": [
    "# Accept two numbers from the user and return their sum, multiplication and division\n"
   ]
  },
  {
   "cell_type": "code",
   "execution_count": 23,
   "id": "8dce6c13",
   "metadata": {},
   "outputs": [
    {
     "name": "stdout",
     "output_type": "stream",
     "text": [
      "enter a value:5\n",
      "enter a value:5\n",
      "addition is: 10 multiplication is: 25 division is: 1.0\n"
     ]
    }
   ],
   "source": [
    "a=int(input(\"enter a value:\"))\n",
    "b=int(input(\"enter a value:\"))\n",
    "print(\"addition is:\",a+b,\"multiplication is:\",a*b,\"division is:\",a/b)"
   ]
  },
  {
   "cell_type": "markdown",
   "id": "8db6fe0b",
   "metadata": {},
   "source": [
    "# Using input() function, print() function and another function you may need; ask for the current year, then print the answer +50.\n",
    "\n"
   ]
  },
  {
   "cell_type": "code",
   "execution_count": 25,
   "id": "4702450b",
   "metadata": {},
   "outputs": [
    {
     "name": "stdout",
     "output_type": "stream",
     "text": [
      "enter a year:2000\n",
      "results= 2050\n"
     ]
    }
   ],
   "source": [
    "year=int(input(\"enter a year:\"))\n",
    "print(\"results=\",year+50)"
   ]
  },
  {
   "cell_type": "code",
   "execution_count": null,
   "id": "96408ef6",
   "metadata": {},
   "outputs": [],
   "source": []
  }
 ],
 "metadata": {
  "kernelspec": {
   "display_name": "Python 3",
   "language": "python",
   "name": "python3"
  },
  "language_info": {
   "codemirror_mode": {
    "name": "ipython",
    "version": 3
   },
   "file_extension": ".py",
   "mimetype": "text/x-python",
   "name": "python",
   "nbconvert_exporter": "python",
   "pygments_lexer": "ipython3",
   "version": "3.8.8"
  }
 },
 "nbformat": 4,
 "nbformat_minor": 5
}
